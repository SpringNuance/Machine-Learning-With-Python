{
 "cells": [
  {
   "cell_type": "markdown",
   "metadata": {
    "deletable": false,
    "editable": false,
    "nbgrader": {
     "cell_type": "markdown",
     "checksum": "79d365426de6f3f165972cc90f11a26e",
     "grade": false,
     "grade_id": "cell-359157e6ccc13d6e",
     "locked": true,
     "schema_version": 3,
     "solution": false,
     "task": false
    }
   },
   "source": [
    "<h2 align=\"center\">Round 1 - Components of Machine Learning</h2>\n",
    "\n",
    "<br>\n",
    "<br>\n",
    "<center>CS-EJ3211 Machine Learning with Python 10.01.-08.04.2022</center>\n",
    "<center>Aalto University (Espoo, Finland)</center>\n",
    "<center>fitech.io (Finland)</center>"
   ]
  },
  {
   "cell_type": "markdown",
   "metadata": {
    "deletable": false,
    "editable": false,
    "nbgrader": {
     "cell_type": "markdown",
     "checksum": "5f3809ccc233ed72fb5217a24fecf94f",
     "grade": false,
     "grade_id": "Introduction",
     "locked": true,
     "schema_version": 3,
     "solution": false
    }
   },
   "source": [
    "Machine learning (ML) studies methods that enable a computer to learn from data. ML methods fit models to data in order to be able to make accurate predictions and/or inferences about phenomena such as the weather or the behavior of humans. The range of ML applications is overwhelming. ML methods can predict the grade of a cancerous tumour based on histological images or identify the main customer segments of a shop.\n",
    "\n",
    "This round introduces some basic concepts behind many ML methods. A main theme of this course is how ML is obtained by combining **three main components**: \n",
    "\n",
    "\n",
    "1. **Data** that consists of basic units of information called **data points**. Data points are defined by their properties which we roughly divide into two fundamentally different groups. \n",
    " * The first group of properties is referred to as the **features** of a data point. Each data point is characterized by (typically a lot of) features, which we stack into a feature vector $\\mathbf{x}=\\big(x_{1},\\ldots,x_{n}\\big)^{T}$. Features are properties of a data point that can be measured or computed in an automated fashion without requiring extensive human supervision. Consider data points representing smartphone snapshots. Each snapshot can be characterized by the red, green and blue intensities of each pixel as its features. \n",
    " * Another group of properties that characterizes individual data points is referred to as **labels**. The label $y$ of a data point typically represents some higher-level fact or quantity of interest. In contrast to features, the label of a data point can often only be determined by a human expert. Consider a data point representing a smartphone snapshot. We could then define the label of this datapoint as $y=1$ if the snapshot contains a cat or $y=0$ if the snapshot does not contain a cat. We speak of regression problems when data points have numeric labels $y \\in \\mathbb{R}$ and of classification problems when the labels take on values only from a finite set such as $y \\in \\{0,1\\}$ or $y \\in \\{\"\\mbox{cat image}\",\"\\mbox{not a cat image}\"\\}$. \n",
    "\n",
    "\n",
    "2. A **hypothesis space** that contains (many) different hypothesis or predictor maps $h(\\mathbf{x})$. \n",
    "\n",
    "\n",
    "3. A **loss function** that measures the quality of a prediction output by a predictor function.\n",
    "\n",
    "ML methods learn by searching the hypothesis space for a predictor function that results in the smallest average loss on a (training) dataset. We will demonstrate how Python libraries such as NumPy, Matplotlib, and Scikit-learn can be used to implement the components of ML methods. The ultimate goal of this round is to equip you with all the skills required to implement a complete ML mehtod in Python. \n",
    "\n",
    "<img width=500 src=\"../../../coursedata/R1_ComponentsML/AMLProblem.png\"/>\n",
    "\n",
    "### Learning Goals\n",
    "\n",
    "* Learn to find useful definitions for data points, their features, and labels for some real-life application. \n",
    "* Learn how to represent numeric data as NumPy arrays (Python representation of vectors and matrices).    \n",
    "* Learn to use (\"toy\") datasets provided by the Python library `scikit-learn`. \n",
    "* Learn about the concept of a hypothesis spaces. \n",
    "* Learn how to fit (linear) prediction functions to data. \n",
    "\n",
    "This notebook contains several student tasks requiring you to write a few lines of Python code to solve small problems. In particular, you have to fill in the gaps marked as **Student Task**.\n",
    "\n",
    "### Reading\n",
    "\n",
    "Chapters 1-2 of [\"Machine Learning: The Basics\"](mlbook.cs.aalto.fi)."
   ]
  },
  {
   "cell_type": "markdown",
   "metadata": {
    "deletable": false,
    "editable": false,
    "nbgrader": {
     "cell_type": "markdown",
     "checksum": "aef0a20df7e7c030bb1553877dc8735b",
     "grade": false,
     "grade_id": "cell-ee73df5d57fdbac3",
     "locked": true,
     "schema_version": 3,
     "solution": false,
     "task": false
    }
   },
   "source": [
    "## Data (Features and labels)\n",
    "\n",
    "ML methods learn a hypothesis that allows to predict some phenomenon such as the next days temperature or the shopping behaviour of customers. The learning is based on continuously adapting the hypothesis based on the discrepancy between its predictions and actual observed **data**. \n",
    "\n",
    "ML methods view data as collections of atomic units of information called **data points**. A data point can represent very different things or objects. Data points might represent different days, different countries, different persons or different planets. The concept of data points is very abstract and, in turn, highly flexible. However, it is important to clearly define the meaning of data points when starting to develop ML applications.\n",
    "\n",
    "ML methods rarely have complete information about a data point but can only access a small number of properties or **features** $\\left(x_1, x_2, \\ldots, x_n \\right)$. Features are properties of a data point which can be measured easily in an automated fashion. Maybe the most important characteristic of features is that they can be determined without requiring human experts. Another type of properties of data points are referred to as **labels**. We can think of the label of a data point as some higher-level information or quantity of interest. In contrast to features, labels are properties of data points that can often be determined only with the help of human experts. We refer to data points whose labels are known as **labeled data**.\n",
    "\n",
    "ML can *roughly* be divided into **supervised**- and **unsupervised** learning. Supervised learning is applied to problems in which we attempt to predict the label $y$ of data points based on its features, and requires access to a set of labeled data. A supervised ML model uses the labeled data points as examples to learn a predictor function $h(\\mathbf{x})$ that takes the features $\\mathbf{x}$ of a data point as input and outputs a predicted label $\\hat{y} = h(\\mathbf{x})$. The trained model can then be used to predict the labels of data points for which the true labels are unknown.\n",
    "\n",
    "In contrast to supervised methods, unsupervised methods do not require the data to be labeled and are in general used for problems related to the structure and distribution of the data. Examples of unsupervised ML methods are clustering algorithms, which aim to identify different clusters of data points in the dataset, and generative models that are used to generate data (see this [cool example](https://www.youtube.com/watch?v=kSLJriaOumA)).\n",
    "\n",
    "### Example: Features and Labels \n",
    "\n",
    "Let us illustrate the main ML terminology using a concrete example. Imagine that we want to build a model for classifying songs according to their genre (such as \"Pop\", \"Blues\" or \"Hip-Hop\"). In this case, the **data points** are songs, with each song corresponding to a specific data point. The data points (=songs) are characterized by the **features** of the data point, which in this case are the city where the song was produced, the length of the song's lyrics, its tempo, and the power spectrum of the audio signal. The quantity of interest or **label** is in this case the genre to which the song belongs to. \n",
    "\n",
    "In order to train a machine learning model to predict the genre (class) of different songs (data points), we need a labeled training dataset consisting of songs for which the genre is known. This dataset can then be used as the input to a supervised ML algorithm, which learns a predictor $h(\\mathbf{x}) = \\hat y$ that maps the features of a song to a predicted label.\n",
    "\n",
    "Any machine learning scenario requires some degree of domain-specific knowledge.\n",
    "No matter how big, well collected and noise-free dataset we had for, say, daytime temperatures and air humidity in Rovaniemi (features), we could not use it to train an effective model to predict the number of euros in Alex's bank account (labels). When choosing features for a particular learning problem, some background assumptions (implicit or explicit) have to be made about the connection between features and labels - we can not learn a pattern that doesn't exist. In real-life scenarios, the exact relationship between features and labels is of course unknown - that is what we are trying to learn. Ideally, we might like to work with features we know are all relevant to the learning task at hand. However, more often than not we have to (and even want to) include a large number of features without any certainty that they are all even relevant or informative. Fortunately, many modern ML methods, including many of those we will cover in this course, can still be effective despite partially uninformative or \"noisy\" features."
   ]
  },
  {
   "cell_type": "markdown",
   "metadata": {
    "deletable": false,
    "editable": false,
    "nbgrader": {
     "cell_type": "markdown",
     "checksum": "37bd38ae130cb184b61e83e9d915340b",
     "grade": false,
     "grade_id": "cell-7218f90089d3bf28",
     "locked": true,
     "schema_version": 3,
     "solution": false,
     "task": false
    }
   },
   "source": [
    "### Representing data as Matrices and Vectors\n",
    "<a id=\"Q1\"></a>\n",
    "\n",
    "In order to simplify the mathematical presentation as well as the technical implementation of machine learning methods, it is useful to represent data using [vectors and matrices](https://en.wikipedia.org/wiki/Matrix_(mathematics)). \n",
    "\n",
    "In the vectorized representation, the features of a data point are stored in a **feature vector** $\\mathbf{x}$, which is a column vector\n",
    "\n",
    "\\begin{equation}\n",
    "    \\mathbf{x}= \\begin{pmatrix}\n",
    "                  x_{1} & x_{2} & \\ldots & x_{n} \n",
    "               \\end{pmatrix}^T \\in \\mathbb{R}^n                \n",
    "\\end{equation}\n",
    "\n",
    "where $x_i, 1 \\leq i \\leq n,$ denotes the value of the $i$:th feature of the data point. Furthermore, we assume that the data points are indexed and denote the feature vector of the $i$:th data point by $\\mathbf{x}^{(i)}, 1 \\leq i \\leq m$.\n",
    "\n",
    "It is customary to store the features of the dataset in a **feature matrix** $\\mathbf{X}$, in which the $i$:th row contains the feature vector of the $i$:th data point:\n",
    "\n",
    "\\begin{equation}\n",
    "  \\mathbf{X} = \\begin{pmatrix}\n",
    "                    \\mathbf{x}^{(1)} \\\\ \\mathbf{x}^{(2)} \\\\ \\vdots \\\\ \\mathbf{x}^{(m)}\n",
    "                \\end{pmatrix} \n",
    "             = \\begin{pmatrix}\n",
    "                  x_1^{(1)} & x_2^{(1)} & \\ldots & x_n^{(1)} \\\\\n",
    "                  x_1^{(2)} & x_2^{(2)} & \\ldots & x_n^{(2)} \\\\\n",
    "                  \\vdots & \\vdots & \\ddots & \\vdots \\\\\n",
    "                  x_1^{(m)} & x_2^{(m)} & \\ldots & x_n^{(m)}\n",
    "               \\end{pmatrix} \\in \\mathbb{R}^{m \\times n}\n",
    "\\end{equation}\n",
    "\n",
    "If the data is labeled, we store the labels of the data points in a separate **label vector** $\\mathbf{y}$, which is a column vector where the $i$:th row contains the label of the $i$:th data point:\n",
    "\n",
    "\\begin{equation}\n",
    "  \\mathbf{y} = \\begin{pmatrix}\n",
    "                  y_{1} & y_{2} & \\ldots & y_{m} \n",
    "               \\end{pmatrix}^T \\in \\mathbb{R}^m                \n",
    "\\end{equation}\n",
    "\n",
    "\n",
    "#### Summary of mathematical notation:\n",
    "\n",
    "- $m$ - number of data points\n",
    "- $n$ - number of features\n",
    "- $\\mathbf{X}$       - upper-case bold letters denote a matrix\n",
    "- $\\mathbf{x}$       - lower-case bold letters denote a vector   \n",
    "- $x_{i}$            - $i$:th entry of vector $\\mathbf{x}$\n",
    "- $\\mathbf{x}^{(i)}$ - feature vector of $i$:th data point\n",
    "- $x_{j}^{(i)}$      - $j$:th feature of $i$:th data point\n",
    "- $\\mathbb{R}$       - real numbers\n",
    "- $\\mathbb{R}^{n}$   - [real coordinate space](https://en.wikipedia.org/wiki/Real_coordinate_space) consisting of length-$n$ lists of real numbers \n",
    "- $\\mathbb{R}^{m \\times n}$ - matrices with $m$ rows and $n$ columns of real-valued numbers\n",
    "\n",
    "A quick refresher for basic properties of matrices can be found under [this link](http://math.mit.edu/~gs/linearalgebra/linearalgebra5_1-3.pdf)\n",
    "and [this link](https://onlinelibrary.wiley.com/doi/pdf/10.1002/9780470549094.app1)"
   ]
  },
  {
   "cell_type": "markdown",
   "metadata": {
    "deletable": false,
    "editable": false,
    "nbgrader": {
     "cell_type": "markdown",
     "checksum": "2f58ba016bb2df31857c0fd5c629462c",
     "grade": false,
     "grade_id": "cell-84616288c85ff525",
     "locked": true,
     "schema_version": 3,
     "solution": false,
     "task": false
    }
   },
   "source": [
    "### Vectors and matrices in NumPy\n",
    "\n",
    "In NumPy, vectors and matrices (and higher dimensional tensors) are represented by `ndarray`:s. An `ndarray` object is an n-dimensional array of shape `(d_1,d_2,...,d_n)`, where `d_i` is the size of the $i$:th dimension of the array. \n",
    "\n",
    "For example, we can represent the label vector $\\mathbf{y}$ as an `ndarray` of shape `(m,1)` and the feature matrix $\\mathbf{X}$ as an `ndarray` of shape `(m,n)`,  where `m` is the number of data points and `n` the number of features.\n",
    "\n",
    "Below, you can see how the data in the song genre example would be represented with matrices and vectors.\n",
    "\n",
    "<img src=\"../../../coursedata/R1_ComponentsML/FeaturesLabels.jpg\" alt=\"Drawing\" style=\"width: 1000px;\"/>\n"
   ]
  },
  {
   "cell_type": "markdown",
   "metadata": {
    "deletable": false,
    "editable": false,
    "nbgrader": {
     "cell_type": "markdown",
     "checksum": "37a35060f4fef95b556acbb23962e5ba",
     "grade": false,
     "grade_id": "cell-dcea8ac1b6cf54d7",
     "locked": true,
     "schema_version": 3,
     "solution": false,
     "task": false
    }
   },
   "source": [
    "<a id='npDataDemo'></a>\n",
    "<div class=\" alert alert-info\">\n",
    "    \n",
    "### Demo. Vectors and matrices in NumPy.  \n",
    "    \n",
    "In the code below, we create a couple of `ndarrays` representing vectors and matrices in NumPy and access parts of these using NumPy indexing. Notice that Python uses 0-based indexing - for example, the element in the first row and second column in a matrix is located at index `[0,1]` in the corresponding `ndarray`.\n",
    "    \n",
    "More information about NumPy can be found in the Round 0 notebook or in tutorial [\"NumPy: the absolute basics for beginners\"](https://numpy.org/devdocs/user/absolute_beginners.html).\n",
    "</div>"
   ]
  },
  {
   "cell_type": "code",
   "execution_count": 1,
   "metadata": {
    "deletable": false,
    "editable": false,
    "nbgrader": {
     "cell_type": "code",
     "checksum": "825768ea3a72e6555fa4026cb8ee8a10",
     "grade": false,
     "grade_id": "cell-f71aff93284e53d5",
     "locked": true,
     "schema_version": 3,
     "solution": false,
     "task": false
    }
   },
   "outputs": [
    {
     "name": "stdout",
     "output_type": "stream",
     "text": [
      "A = \n",
      "[[1 2 3]\n",
      " [4 5 6]]\n",
      "b = \n",
      "[[6]\n",
      " [7]\n",
      " [9]]\n",
      "\n",
      "Shape of A: (2, 3)\n",
      "Shape of b: (3, 1)\n",
      "\n",
      "A_2_1 = 4\n",
      "\n",
      "Second column of A = [2 5]\n",
      "\n",
      "First row of A = [1 2 3]\n",
      "\n",
      "Second and third column of A =\n",
      "[[2 3]\n",
      " [5 6]]\n",
      "\n"
     ]
    }
   ],
   "source": [
    "import numpy as np\n",
    "\n",
    "# Create a matrix A and column vector b\n",
    "A = np.array([[1,2,3],[4,5,6]])\n",
    "b = np.array([[6,7,9]]).T\n",
    "\n",
    "# Print matrix and vector\n",
    "print(f\"A = \\n{A}\")\n",
    "print(f\"b = \\n{b}\\n\")\n",
    "\n",
    "# Use the .shape attribute to get the shapes of A and b\n",
    "print(f\"Shape of A: {A.shape}\")\n",
    "print(f\"Shape of b: {b.shape}\\n\")\n",
    "\n",
    "# Get the element in the second row and first column of A\n",
    "print(f\"A_2_1 = {A[1,0]}\\n\")\n",
    "\n",
    "# Get second column of A \n",
    "print(f\"Second column of A = {A[:,1]}\\n\")\n",
    "\n",
    "# Get first row of A \n",
    "print(f\"First row of A = {A[0]}\\n\")\n",
    "\n",
    "# Get columns 2 and 3 of A\n",
    "print(f\"Second and third column of A =\\n{A[:,1:3]}\\n\")"
   ]
  },
  {
   "cell_type": "markdown",
   "metadata": {
    "deletable": false,
    "editable": false,
    "nbgrader": {
     "cell_type": "markdown",
     "checksum": "1fc9a36bfa63ee895d95dab0f2b01397",
     "grade": false,
     "grade_id": "cell-87524ca0367135c0",
     "locked": true,
     "schema_version": 3,
     "solution": false,
     "task": false
    }
   },
   "source": [
    "<a id='pdDataDemo'></a>\n",
    "<div class=\" alert alert-warning\">\n",
    "    \n",
    "### Student task. Feature matrix in NumPy\n",
    "    \n",
    "This task tests your knowledge on the structure of the feature matrix $\\mathbf{X}$ and array indexing in NumPy.\n",
    "    \n",
    "The code snippet first creates a \"feature matrix\" containing a range of numbers. After this, your task is to\n",
    "    \n",
    "- Store a vector containing the values of the first feature of the feature matrix in the variable `a`.\n",
    "    \n",
    "- Store the feature vector of the 10th data point in the variable `b`\n",
    "    \n",
    "- Store a matrix containing the 2nd and 3rd features of data points $10, 11, \\ldots, 14$ in the variable `c`.\n",
    "    \n",
    "**Hint:** Remember that indexing starts from zero in Python! For example, the first data point is stored in the row with index 0, etc.\n",
    "</div>"
   ]
  },
  {
   "cell_type": "code",
   "execution_count": 2,
   "metadata": {
    "deletable": false,
    "nbgrader": {
     "cell_type": "code",
     "checksum": "1902714ad474a6dea6a55e163a739c3f",
     "grade": false,
     "grade_id": "cell-df4a2585abf3ffc3",
     "locked": false,
     "schema_version": 3,
     "solution": true,
     "task": false
    }
   },
   "outputs": [
    {
     "name": "stdout",
     "output_type": "stream",
     "text": [
      "[[  1   2   3   4   5]\n",
      " [  6   7   8   9  10]\n",
      " [ 11  12  13  14  15]\n",
      " [ 16  17  18  19  20]\n",
      " [ 21  22  23  24  25]\n",
      " [ 26  27  28  29  30]\n",
      " [ 31  32  33  34  35]\n",
      " [ 36  37  38  39  40]\n",
      " [ 41  42  43  44  45]\n",
      " [ 46  47  48  49  50]\n",
      " [ 51  52  53  54  55]\n",
      " [ 56  57  58  59  60]\n",
      " [ 61  62  63  64  65]\n",
      " [ 66  67  68  69  70]\n",
      " [ 71  72  73  74  75]\n",
      " [ 76  77  78  79  80]\n",
      " [ 81  82  83  84  85]\n",
      " [ 86  87  88  89  90]\n",
      " [ 91  92  93  94  95]\n",
      " [ 96  97  98  99 100]]\n",
      "[ 1  6 11 16 21 26 31 36 41 46 51 56 61 66 71 76 81 86 91 96]\n",
      "[46 47 48 49 50]\n",
      "[[47 48]\n",
      " [52 53]\n",
      " [57 58]\n",
      " [62 63]\n",
      " [67 68]]\n",
      "Shape of X: (20, 5)\n",
      "Shape of a: (20,)\n",
      "Shape of b: (5,)\n",
      "Shape of c: (5, 2)\n"
     ]
    }
   ],
   "source": [
    "# Define the feature matrix \n",
    "X = np.arange(1,101).reshape(20,5) \n",
    "print(X)\n",
    "\n",
    "### STUDENT TASK ###\n",
    "a = X[:,0]\n",
    "print(a)\n",
    "b = X[9, :]\n",
    "print(b)\n",
    "c = X[np.ix_([9,10,11,12,13],[1,2])]\n",
    "print(c)\n",
    "# YOUR CODE HERE\n",
    "\n",
    "\n",
    "print(f\"Shape of X: {X.shape}\")\n",
    "print(f\"Shape of a: {a.shape}\")\n",
    "print(f\"Shape of b: {b.shape}\")\n",
    "print(f\"Shape of c: {c.shape}\")"
   ]
  },
  {
   "cell_type": "code",
   "execution_count": 3,
   "metadata": {
    "deletable": false,
    "editable": false,
    "nbgrader": {
     "cell_type": "code",
     "checksum": "f171eccea6ab241d5d3a5322e6a6055e",
     "grade": false,
     "grade_id": "cell-a2eab60bc187061a",
     "locked": true,
     "schema_version": 3,
     "solution": false,
     "task": false
    }
   },
   "outputs": [
    {
     "name": "stdout",
     "output_type": "stream",
     "text": [
      "Sanity checks passed!\n"
     ]
    }
   ],
   "source": [
    "# Perform some sanity checks on the solution\n",
    "assert a.shape == (20,), \"The shape of a is incorrect!\"\n",
    "assert b.shape == (5,), \"The shape of b is incorrect!\"\n",
    "assert c.shape == (5, 2), \"The shape of c is incorrect!\"\n",
    "\n",
    "print(\"Sanity checks passed!\")"
   ]
  },
  {
   "cell_type": "code",
   "execution_count": 4,
   "metadata": {
    "deletable": false,
    "editable": false,
    "nbgrader": {
     "cell_type": "code",
     "checksum": "2ee0e21977ba50b23796a4853f5eb111",
     "grade": true,
     "grade_id": "cell-29044ab014dc3a2b",
     "locked": true,
     "points": 0.5,
     "schema_version": 3,
     "solution": false,
     "task": false
    }
   },
   "outputs": [],
   "source": [
    "# hidden tests\n"
   ]
  },
  {
   "cell_type": "code",
   "execution_count": 5,
   "metadata": {
    "deletable": false,
    "editable": false,
    "nbgrader": {
     "cell_type": "code",
     "checksum": "591fbe0d331d2fb79b99c792cbfe426d",
     "grade": true,
     "grade_id": "cell-cfb773721cba15a5",
     "locked": true,
     "points": 0.5,
     "schema_version": 3,
     "solution": false,
     "task": false
    }
   },
   "outputs": [],
   "source": [
    "# hidden tests\n"
   ]
  },
  {
   "cell_type": "code",
   "execution_count": 6,
   "metadata": {
    "deletable": false,
    "editable": false,
    "nbgrader": {
     "cell_type": "code",
     "checksum": "43fdae9c88b760004baf0ba860ac050d",
     "grade": true,
     "grade_id": "cell-67bea4510fd4778b",
     "locked": true,
     "points": 0.5,
     "schema_version": 3,
     "solution": false,
     "task": false
    }
   },
   "outputs": [],
   "source": [
    "# hidden tests\n"
   ]
  },
  {
   "cell_type": "markdown",
   "metadata": {
    "deletable": false,
    "editable": false,
    "nbgrader": {
     "cell_type": "markdown",
     "checksum": "bdc12ab2bda8e1cdea6a03e97ba7091c",
     "grade": false,
     "grade_id": "cell-f5b6ceec01e8b87b",
     "locked": true,
     "schema_version": 3,
     "solution": false,
     "task": false
    }
   },
   "source": [
    "### Loading datasets in NumPy with Pandas\n",
    "\n",
    "Within this course we will focus on ML methods that have ready-to-use implementations provided in the Python library **scikit-learn**. These methods build on the Python package **NumPy** which provides methods for processing numeric data. The most important data type for representing numeric vectors or matrices are **NumPy Arrays**. Hence, to make good use of the ML methods provided by scikit-learn we first have to get familiar with loading data into NumPy arrays. \n",
    "\n",
    "In this section, you will learn how to load a dataset using Pandas and how to define the feature matrix and label vector that are used in many scikit-learn models. As an example, we will use a small dataset consisting of the weights and bench press results of students at Aalto university, and consider the weight as the feature and the bench press result as the label of the data points."
   ]
  },
  {
   "cell_type": "markdown",
   "metadata": {
    "deletable": false,
    "editable": false,
    "nbgrader": {
     "cell_type": "markdown",
     "checksum": "d7d78685153df911d2162438cafc3b03",
     "grade": false,
     "grade_id": "cell-2d95b85ab70b4888",
     "locked": true,
     "schema_version": 3,
     "solution": false,
     "task": false
    }
   },
   "source": [
    "<a id='pdDataDemo'></a>\n",
    "<div class=\" alert alert-info\">\n",
    "\n",
    "### Demo. Loading a dataset with Pandas.  \n",
    "    \n",
    "The code snippet below loads the bench press dataset using Pandas ([documentation](https://pandas.pydata.org/pandas-docs/stable/reference/api/pandas.read_csv.html?highlight=read_csv#pandas.read_csv)) function `read_csv`. The function creates a Pandas DataFrame based on the data, and uses the top row to define the column names.\n",
    "    \n",
    "In order to define the feature matrix `X` and label vector `y`, we first select the corresponding data from the dataframe, and then convert it into `ndarray`:s by using the `.to_numpy()` function.\n",
    "</div>"
   ]
  },
  {
   "cell_type": "code",
   "execution_count": 7,
   "metadata": {
    "deletable": false,
    "editable": false,
    "nbgrader": {
     "cell_type": "code",
     "checksum": "5a3fa9e740d7c7d67c0c6cc627cbc5b4",
     "grade": false,
     "grade_id": "cell-3d4acbe8e8cbb5f0",
     "locked": true,
     "schema_version": 3,
     "solution": false,
     "task": false
    }
   },
   "outputs": [
    {
     "name": "stdout",
     "output_type": "stream",
     "text": [
      "First five values of X (weights of students):\n",
      " [[68.72700594]\n",
      " [97.53571532]\n",
      " [86.59969709]\n",
      " [79.93292421]\n",
      " [57.80093202]] \n",
      "\n",
      "First five values of y (bp results of students):\n",
      " [ 45.82560525 111.9390433   80.88996529  75.52398007  37.67579885]\n"
     ]
    }
   ],
   "source": [
    "import pandas as pd\n",
    "\n",
    "path = \"../../../coursedata/R1_ComponentsML/benchpress.csv\"  # Define the file path\n",
    "df = pd.read_csv(path)  # Load the data as a Pandas DataFrame\n",
    "\n",
    "X = df['Bodyweight'].to_numpy().reshape(-1,1)  # Define the feature matrix\n",
    "y = df['Benchpress'].to_numpy()  # Define the label vector\n",
    "\n",
    "# Print first five values of X and y\n",
    "print(f\"First five values of X (weights of students):\\n {X[:5]} \\n\")\n",
    "print(f\"First five values of y (bp results of students):\\n {y[:5]}\")"
   ]
  },
  {
   "cell_type": "markdown",
   "metadata": {
    "deletable": false,
    "editable": false,
    "nbgrader": {
     "cell_type": "markdown",
     "checksum": "b29ce8da6ae6a453e0eba06f86f99cb6",
     "grade": false,
     "grade_id": "cell-3adcd6a2b3726925",
     "locked": true,
     "schema_version": 3,
     "solution": false,
     "task": false
    }
   },
   "source": [
    "<div class=\" alert alert-success\">\n",
    "    \n",
    "### Auto/\\<tab> completion\n",
    "Jupyter notebooks support auto-completion: you can save some coding time, and reference look-ups, by using \\<tab> to complete code/commands you've started to write. E.g., start writing a couple of the first letters of `print()` function, press \\<tab>, and the auto-complete should either show you all the possible completions or complete the command if it's unambiguous.\n",
    "\n",
    "For jupyter notebooks it is adviced to put `%config Completer.use_jedi = False` in the first cell in the case if autocomplete is slow.\n",
    "</div>"
   ]
  },
  {
   "cell_type": "markdown",
   "metadata": {
    "deletable": false,
    "editable": false,
    "nbgrader": {
     "cell_type": "markdown",
     "checksum": "068b797a4fbf8b7f1fa9815fcb5baf3d",
     "grade": false,
     "grade_id": "cell-f22c842fc8d33ae5",
     "locked": true,
     "schema_version": 3,
     "solution": false,
     "task": false
    }
   },
   "source": [
    "### Datasets in Scikit-Learn\n",
    "\n",
    "When solving real-life ML problems, you will have to import your own data into the Python environment by using, for example, the methods shown above. However, the Python library scikit-learn also comes with functions for loading a few standard datasets, which can be useful for testing different ML methods or honing your ML skills. These datasets include some small built-in [toy datasets](https://scikit-learn.org/stable/datasets/toy_dataset.html), \n",
    "such as the [iris](https://scikit-learn.org/stable/datasets/toy_dataset.html#iris-plants-dataset) and [digits](https://scikit-learn.org/stable/datasets/toy_dataset.html#optical-recognition-of-handwritten-digits-dataset) datasets for classification and the [boston house prices](https://scikit-learn.org/stable/datasets/toy_dataset.html#boston-house-prices-dataset) and [linnerud](https://scikit-learn.org/stable/datasets/toy_dataset.html#linnerrud-dataset) datasets for regression, but also larger [real world datasets](https://scikit-learn.org/stable/datasets/real_world.html#real-world-datasets) that are downloaded only when calling a fetching function.\n",
    "\n",
    "The scikit-learn datasets are stored in a [`bunch` data type](https://pypi.org/project/bunch/) containing multiple key-value pairs, similar to the ones in a Python `dictionary`. The main difference between the two data types is that the `bunch` type enables accessing values through attributes named in accordance with the keys (i.e. `bunch['key'] == bunch.key`).\n",
    "\n",
    "All scikit-learn datasets include a feature matrix with key `'data'` and a target (label) vector with the key `'target'`, as well as a description of the dataset with the key `DESCR`. Also, the `Bunch` objects might contain other items as well, such as `feature_names` and `target_names` containing the names of the features and targets of the data points respectively. "
   ]
  },
  {
   "cell_type": "markdown",
   "metadata": {
    "deletable": false,
    "editable": false,
    "nbgrader": {
     "cell_type": "markdown",
     "checksum": "3dbf9a6118d5493321a1fd0890f00b77",
     "grade": false,
     "grade_id": "cell-2c2a7ef97a6dd04c",
     "locked": true,
     "schema_version": 3,
     "solution": false,
     "task": false
    }
   },
   "source": [
    "### Example problem: Predicting the number of chin-ups based on an athlete's weight\n",
    "\n",
    "Now, we consider an example ML problem that we will later solve using a ML model in Scikit-learn. In this problem, our task is to predict the number of chin-ups that an athlete is able to do, based on his/her weight. Here, the data points represent athletes, the only feature is the weight of the athlete, and the label is the number of chin-ups the athlete is able to perform. The goal is to solve this problem by using ML to find a predictor function $h(x)$ that predicts the number of chin-ups based on the weight of the athlete.\n",
    "\n",
    "We can obtain data for training our model from the **[\"Linnerud\" dataset](https://scikit-learn.org/stable/modules/generated/sklearn.datasets.load_linnerud.html#sklearn.datasets.load_linnerud)**, which contains the physiological parameters (Weight, Waist, and Puls) and exercise data (Chin-ups, Situps, and Jumps) of 20 athletes. In the dataset description, the exercise data is referred to as features, while the physiological parameters are defined as the labels of datapoints (athletes). ***However, in practice, one can freely define which variables are features and which are labels.***"
   ]
  },
  {
   "cell_type": "markdown",
   "metadata": {
    "deletable": false,
    "editable": false,
    "nbgrader": {
     "cell_type": "markdown",
     "checksum": "cbff1112580b8bda15cdba54c38762ab",
     "grade": false,
     "grade_id": "cell-b187f4bbec28c596",
     "locked": true,
     "schema_version": 3,
     "solution": false,
     "task": false
    }
   },
   "source": [
    "<a id='pdDataDemo'></a>\n",
    "<div class=\" alert alert-warning\">\n",
    "   \n",
    "### Student task. Loading the data for chin-up prediction.  \n",
    "    \n",
    "In this task your objective is to create a function that returns a feature matrix `X` containing the weights (in kg) of the 20 athletes in the linnerud dataset, and a label vector `y` containing the number of chin-ups of the respective athletes. The feature matrix should be of shape `(20,1)` and the label vector of shape `(20,)`.\n",
    "    \n",
    "The steps you have to code are as follows:\n",
    "    \n",
    "- Load the linnerud data using the function `datasets.load_linnerud()` and store it in a variable named `linnerud`\n",
    "    \n",
    "    \n",
    "- Store the athlete weights in a feature matrix `X`. The athlete weights are located in the first column of the matrix `linnerud.target`. Furthermore, convert the weights in `X` to kg by multiplying `X` with the conversion factor `CF`and reshape `X` to shape `(20,1)` by using the function `X.reshape(m,n)` with suitable arguments `m,n`\n",
    "    \n",
    "    \n",
    "- Store the nr. of chin-ups in a label vector `y`. The nr. of chin-ups are located in the first column of the matrix `linnerud.data`\n",
    "</div>"
   ]
  },
  {
   "cell_type": "code",
   "execution_count": 8,
   "metadata": {
    "deletable": false,
    "nbgrader": {
     "cell_type": "code",
     "checksum": "0769b21b472329c1b281f109c7ec6158",
     "grade": false,
     "grade_id": "cell-773022e20cf51a59",
     "locked": false,
     "schema_version": 3,
     "solution": true,
     "task": false
    }
   },
   "outputs": [
    {
     "name": "stdout",
     "output_type": "stream",
     "text": [
      "{'data': array([[  5., 162.,  60.],\n",
      "       [  2., 110.,  60.],\n",
      "       [ 12., 101., 101.],\n",
      "       [ 12., 105.,  37.],\n",
      "       [ 13., 155.,  58.],\n",
      "       [  4., 101.,  42.],\n",
      "       [  8., 101.,  38.],\n",
      "       [  6., 125.,  40.],\n",
      "       [ 15., 200.,  40.],\n",
      "       [ 17., 251., 250.],\n",
      "       [ 17., 120.,  38.],\n",
      "       [ 13., 210., 115.],\n",
      "       [ 14., 215., 105.],\n",
      "       [  1.,  50.,  50.],\n",
      "       [  6.,  70.,  31.],\n",
      "       [ 12., 210., 120.],\n",
      "       [  4.,  60.,  25.],\n",
      "       [ 11., 230.,  80.],\n",
      "       [ 15., 225.,  73.],\n",
      "       [  2., 110.,  43.]]), 'feature_names': ['Chins', 'Situps', 'Jumps'], 'target': array([[191.,  36.,  50.],\n",
      "       [189.,  37.,  52.],\n",
      "       [193.,  38.,  58.],\n",
      "       [162.,  35.,  62.],\n",
      "       [189.,  35.,  46.],\n",
      "       [182.,  36.,  56.],\n",
      "       [211.,  38.,  56.],\n",
      "       [167.,  34.,  60.],\n",
      "       [176.,  31.,  74.],\n",
      "       [154.,  33.,  56.],\n",
      "       [169.,  34.,  50.],\n",
      "       [166.,  33.,  52.],\n",
      "       [154.,  34.,  64.],\n",
      "       [247.,  46.,  50.],\n",
      "       [193.,  36.,  46.],\n",
      "       [202.,  37.,  62.],\n",
      "       [176.,  37.,  54.],\n",
      "       [157.,  32.,  52.],\n",
      "       [156.,  33.,  54.],\n",
      "       [138.,  33.,  68.]]), 'target_names': ['Weight', 'Waist', 'Pulse'], 'frame': None, 'DESCR': '.. _linnerrud_dataset:\\n\\nLinnerrud dataset\\n-----------------\\n\\n**Data Set Characteristics:**\\n\\n    :Number of Instances: 20\\n    :Number of Attributes: 3\\n    :Missing Attribute Values: None\\n\\nThe Linnerud dataset is a multi-output regression dataset. It consists of three\\nexcercise (data) and three physiological (target) variables collected from\\ntwenty middle-aged men in a fitness club:\\n\\n- *physiological* - CSV containing 20 observations on 3 physiological variables:\\n   Weight, Waist and Pulse.\\n- *exercise* - CSV containing 20 observations on 3 exercise variables:\\n   Chins, Situps and Jumps.\\n\\n.. topic:: References\\n\\n  * Tenenhaus, M. (1998). La regression PLS: theorie et pratique. Paris:\\n    Editions Technic.\\n', 'data_filename': '/opt/software/lib/python3.9/site-packages/sklearn/datasets/data/linnerud_exercise.csv', 'target_filename': '/opt/software/lib/python3.9/site-packages/sklearn/datasets/data/linnerud_physiological.csv'}\n",
      "[191. 189. 193. 162. 189. 182. 211. 167. 176. 154. 169. 166. 154. 247.\n",
      " 193. 202. 176. 157. 156. 138.]\n",
      "[[ 86.523]\n",
      " [ 85.617]\n",
      " [ 87.429]\n",
      " [ 73.386]\n",
      " [ 85.617]\n",
      " [ 82.446]\n",
      " [ 95.583]\n",
      " [ 75.651]\n",
      " [ 79.728]\n",
      " [ 69.762]\n",
      " [ 76.557]\n",
      " [ 75.198]\n",
      " [ 69.762]\n",
      " [111.891]\n",
      " [ 87.429]\n",
      " [ 91.506]\n",
      " [ 79.728]\n",
      " [ 71.121]\n",
      " [ 70.668]\n",
      " [ 62.514]]\n",
      "[ 5.  2. 12. 12. 13.  4.  8.  6. 15. 17. 17. 13. 14.  1.  6. 12.  4. 11.\n",
      " 15.  2.]\n"
     ]
    }
   ],
   "source": [
    "from sklearn import datasets\n",
    "\n",
    "# conversion factor\n",
    "CF = 0.453\n",
    "\n",
    "def get_chinup_data():\n",
    "    ### STUDENT TASK ###\n",
    "    # Load the linnerud dataset into the bunch object \"linnerud\"\n",
    "    linnerud = datasets.load_linnerud()\n",
    "    print(linnerud)\n",
    "    X = linnerud.target[:,0]\n",
    "    print(X)\n",
    "    X = np.multiply(X, CF).reshape(20,1)\n",
    "    print(X)\n",
    "    y = linnerud.data[:,0]\n",
    "    print(y)\n",
    "    # YOUR CODE HERE\n",
    "\n",
    "    return X, y\n",
    "\n",
    "X, y = get_chinup_data()"
   ]
  },
  {
   "cell_type": "code",
   "execution_count": 9,
   "metadata": {
    "deletable": false,
    "editable": false,
    "nbgrader": {
     "cell_type": "code",
     "checksum": "3a78003ca639065ac60b56c760a5b50c",
     "grade": false,
     "grade_id": "cell-0f676fee75ee3288",
     "locked": true,
     "schema_version": 3,
     "solution": false,
     "task": false
    }
   },
   "outputs": [
    {
     "name": "stdout",
     "output_type": "stream",
     "text": [
      "Sanity checks passed!\n"
     ]
    }
   ],
   "source": [
    "# Perform some sanity checks on the solutions\n",
    "assert X.shape == (20,1), \"The shape of the feature matrix is wrong!\"\n",
    "assert y.shape == (20,), \"The shape of the target vector is wrong!\"\n",
    "\n",
    "print(\"Sanity checks passed!\")"
   ]
  },
  {
   "cell_type": "code",
   "execution_count": 10,
   "metadata": {
    "deletable": false,
    "editable": false,
    "nbgrader": {
     "cell_type": "code",
     "checksum": "891edadefb88447fb8ca798a5eb209a7",
     "grade": true,
     "grade_id": "cell-7317f587a4a3bbfe",
     "locked": true,
     "points": 1,
     "schema_version": 3,
     "solution": false,
     "task": false
    }
   },
   "outputs": [],
   "source": [
    "# hidden tests\n"
   ]
  },
  {
   "cell_type": "code",
   "execution_count": 11,
   "metadata": {
    "deletable": false,
    "editable": false,
    "nbgrader": {
     "cell_type": "code",
     "checksum": "6407ab56ef9a5aa9b01d79e51affb39f",
     "grade": true,
     "grade_id": "cell-fd794c2db41a4464",
     "locked": true,
     "points": 1,
     "schema_version": 3,
     "solution": false,
     "task": false
    }
   },
   "outputs": [],
   "source": [
    "# hidden tests\n"
   ]
  },
  {
   "cell_type": "markdown",
   "metadata": {
    "deletable": false,
    "editable": false,
    "nbgrader": {
     "cell_type": "markdown",
     "checksum": "b4b9f4f6cd2a51f1b46706628878e7f9",
     "grade": false,
     "grade_id": "cell-e621d21ef7385ef9",
     "locked": true,
     "schema_version": 3,
     "solution": false,
     "task": false
    }
   },
   "source": [
    "### Visualizing Data\n",
    "\n",
    "Before considering how ML models learn from data, we will briefly examine how to visualize data using the [Matplotlib](https://matplotlib.org/) library in Python. Visual exploration of the dataset is often beneficial before applying ML methods since it can aid in identifying relationships between the variables in the data.\n",
    "\n",
    "The [scatterplot](https://en.wikipedia.org/wiki/Scatter_plot) is a particularly useful tool for visualizing a dataset containing discrete data points. The scatterplot visualizes the data with respect to two different variables and can be used to assess the relationship between a single feature and the label, or the relationship between two distinct features. Another useful plot type is the [histogram](https://en.wikipedia.org/wiki/Histogram), which is often used for visualizing the sample distribution of the data with respect to a single numerical variable."
   ]
  },
  {
   "cell_type": "markdown",
   "metadata": {
    "deletable": false,
    "editable": false,
    "nbgrader": {
     "cell_type": "markdown",
     "checksum": "5b18eba4478d136baccae68310c5c225",
     "grade": false,
     "grade_id": "cell-1e9c2aaf35ed132a",
     "locked": true,
     "schema_version": 3,
     "solution": false,
     "task": false
    }
   },
   "source": [
    "<a id='plotpdDemo'></a>\n",
    "<div class=\" alert alert-info\">\n",
    "    \n",
    "### Demo. Plotting a scatterplot with Matplotlib.  \n",
    "    \n",
    "In the code snippet below, we plot a scatterplot of the weight and nr. of chin-ups of the 20 athletes in the Linnerud dataset, using the `plt.scatter()` function in Matplotlib.\n",
    "    \n",
    "You can consult the [documentation](https://matplotlib.org/3.1.1/api/_as_gen/matplotlib.pyplot.scatter.html) of `plt.scatter()` for information on different options available for plotting, as well as further examples that show how to create more sophisticated scatterplots. \n",
    "</div>"
   ]
  },
  {
   "cell_type": "code",
   "execution_count": 12,
   "metadata": {
    "deletable": false,
    "editable": false,
    "nbgrader": {
     "cell_type": "code",
     "checksum": "071f00ef5eb1857b527a0e2f6523c888",
     "grade": false,
     "grade_id": "cell-13b2729fe64490db",
     "locked": true,
     "schema_version": 3,
     "solution": false,
     "task": false
    }
   },
   "outputs": [
    {
     "name": "stdout",
     "output_type": "stream",
     "text": [
      "{'data': array([[  5., 162.,  60.],\n",
      "       [  2., 110.,  60.],\n",
      "       [ 12., 101., 101.],\n",
      "       [ 12., 105.,  37.],\n",
      "       [ 13., 155.,  58.],\n",
      "       [  4., 101.,  42.],\n",
      "       [  8., 101.,  38.],\n",
      "       [  6., 125.,  40.],\n",
      "       [ 15., 200.,  40.],\n",
      "       [ 17., 251., 250.],\n",
      "       [ 17., 120.,  38.],\n",
      "       [ 13., 210., 115.],\n",
      "       [ 14., 215., 105.],\n",
      "       [  1.,  50.,  50.],\n",
      "       [  6.,  70.,  31.],\n",
      "       [ 12., 210., 120.],\n",
      "       [  4.,  60.,  25.],\n",
      "       [ 11., 230.,  80.],\n",
      "       [ 15., 225.,  73.],\n",
      "       [  2., 110.,  43.]]), 'feature_names': ['Chins', 'Situps', 'Jumps'], 'target': array([[191.,  36.,  50.],\n",
      "       [189.,  37.,  52.],\n",
      "       [193.,  38.,  58.],\n",
      "       [162.,  35.,  62.],\n",
      "       [189.,  35.,  46.],\n",
      "       [182.,  36.,  56.],\n",
      "       [211.,  38.,  56.],\n",
      "       [167.,  34.,  60.],\n",
      "       [176.,  31.,  74.],\n",
      "       [154.,  33.,  56.],\n",
      "       [169.,  34.,  50.],\n",
      "       [166.,  33.,  52.],\n",
      "       [154.,  34.,  64.],\n",
      "       [247.,  46.,  50.],\n",
      "       [193.,  36.,  46.],\n",
      "       [202.,  37.,  62.],\n",
      "       [176.,  37.,  54.],\n",
      "       [157.,  32.,  52.],\n",
      "       [156.,  33.,  54.],\n",
      "       [138.,  33.,  68.]]), 'target_names': ['Weight', 'Waist', 'Pulse'], 'frame': None, 'DESCR': '.. _linnerrud_dataset:\\n\\nLinnerrud dataset\\n-----------------\\n\\n**Data Set Characteristics:**\\n\\n    :Number of Instances: 20\\n    :Number of Attributes: 3\\n    :Missing Attribute Values: None\\n\\nThe Linnerud dataset is a multi-output regression dataset. It consists of three\\nexcercise (data) and three physiological (target) variables collected from\\ntwenty middle-aged men in a fitness club:\\n\\n- *physiological* - CSV containing 20 observations on 3 physiological variables:\\n   Weight, Waist and Pulse.\\n- *exercise* - CSV containing 20 observations on 3 exercise variables:\\n   Chins, Situps and Jumps.\\n\\n.. topic:: References\\n\\n  * Tenenhaus, M. (1998). La regression PLS: theorie et pratique. Paris:\\n    Editions Technic.\\n', 'data_filename': '/opt/software/lib/python3.9/site-packages/sklearn/datasets/data/linnerud_exercise.csv', 'target_filename': '/opt/software/lib/python3.9/site-packages/sklearn/datasets/data/linnerud_physiological.csv'}\n",
      "[191. 189. 193. 162. 189. 182. 211. 167. 176. 154. 169. 166. 154. 247.\n",
      " 193. 202. 176. 157. 156. 138.]\n",
      "[[ 86.523]\n",
      " [ 85.617]\n",
      " [ 87.429]\n",
      " [ 73.386]\n",
      " [ 85.617]\n",
      " [ 82.446]\n",
      " [ 95.583]\n",
      " [ 75.651]\n",
      " [ 79.728]\n",
      " [ 69.762]\n",
      " [ 76.557]\n",
      " [ 75.198]\n",
      " [ 69.762]\n",
      " [111.891]\n",
      " [ 87.429]\n",
      " [ 91.506]\n",
      " [ 79.728]\n",
      " [ 71.121]\n",
      " [ 70.668]\n",
      " [ 62.514]]\n",
      "[ 5.  2. 12. 12. 13.  4.  8.  6. 15. 17. 17. 13. 14.  1.  6. 12.  4. 11.\n",
      " 15.  2.]\n"
     ]
    },
    {
     "data": {
      "image/png": "[encoded data removed]",
      "text/plain": [
       "<Figure size 576x360 with 1 Axes>"
      ]
     },
     "metadata": {
      "needs_background": "light"
     },
     "output_type": "display_data"
    }
   ],
   "source": [
    "import matplotlib.pyplot as plt\n",
    "\n",
    "# Load Linnerud data and select the physical attributes as the features and labels\n",
    "x, y = get_chinup_data()\n",
    "\n",
    "plt.rcParams['axes.labelsize'] = 16 # Set fontsize of labels \n",
    "plt.rcParams['axes.titlesize'] = 16 # Set fontsize of title\n",
    "\n",
    "plt.figure(figsize=(8,5))  # Set size of figure\n",
    "plt.scatter(x, y)          # Make a scatterplot of the weights vs. chin-ups\n",
    "plt.title(\"Weight vs. nr. of Chin-ups\")  # Set title\n",
    "plt.xlabel(\"Weight\")    # Set x-axis label \n",
    "plt.ylabel(\"Chin-ups\")  # Set y-axis label  \n",
    "plt.show()"
   ]
  },
  {
   "cell_type": "markdown",
   "metadata": {
    "deletable": false,
    "editable": false,
    "nbgrader": {
     "cell_type": "markdown",
     "checksum": "c61795ef1c5c99cb6094eb9636399f8a",
     "grade": false,
     "grade_id": "cell-6fa2dc2cb78c4961",
     "locked": true,
     "schema_version": 3,
     "solution": false,
     "task": false
    }
   },
   "source": [
    "## Hypothesis Space \n",
    "\n",
    "When applying a ML model on labeled data, we want the model to learn a predictor function $h(\\mathbf{x})$ that takes the features of a data point as input and outputs a predicted label $\\hat{y}$. Ideally, we would like our ML model to be able to learn any possible function so that it can find the one that best represents the relationship between the features and the label. This is, however, impossible in practice, and therefore we have to restrict the set of functions that the ML model can learn. This restricted set of predictor functions is referred to as the **hypothesis space**.\n",
    "\n",
    "The choice of hypothesis space corresponds to an assumption about the relationship between the features and the label of a data point. For example, by selecting the set of linear functions of the form\n",
    "\n",
    "\\begin{equation}\n",
    "    h(x) = w \\cdot x, \\; \\text{ where } w \\in \\mathbb{R}\n",
    "\\end{equation}\n",
    "\n",
    "as the hypothesis space in the chin-up problem, we are effectively assuming that the relationship between the weight and the number of chin-ups can be approximated well using a linear function. It is important to understand that such assumptions can rarely be justified in advance, and it is in practice necessary to experiment with models using different hypothesis spaces to find the one that results in the best predictions.\n",
    "\n",
    "### Model parameters\n",
    "\n",
    "As per the example above, let us choose the set of linear functions\n",
    "\n",
    "\\begin{equation}\n",
    "    h(x) = w \\cdot x, \\; \\text{ where } w \\in \\mathbb{R}\n",
    "\\end{equation}\n",
    "\n",
    "as the hypothesis space for the chin-up problem. The predictor functions take as input the weight $x$ of an athlete and return a prediction $\\hat{y} = wx$ of the number of chin-ups the athlete can perform. Note that each possible value of the coefficient $w$ corresponds to a particular predictor function, and thus the learning algorithm can search for the best predictor by tuning the value of $w$.\n",
    "\n",
    "In this example, $w$ is the sole **model parameter** of the ML model. Model parameters are variables that the learning algorithm tunes during the training process in order to find the best predictor function in the hypothesis space. Models with larger hypothesis spaces than our tiny example have a larger number of parameters. An extreme example is the [GPT-3](https://en.wikipedia.org/wiki/GPT-3) deep learning model, which has ~175 billion model parameters!\n",
    "\n",
    "The figure below shows the optimal predictor for four polynomial hypothesis spaces, as well as the form of the predictor functions in the respective spaces. We can see that whereas the first-degree polynomials in the hypothesis space $\\mathcal{H}^{(2)}$ are parametrized by the linear term $w_1$ and intercept $w_0$, the third-degree polynomials in $H^{(4)}$ are parametrized by a larger collection of parameters $(w_0, w_1, w_2, w_3)$. "
   ]
  },
  {
   "cell_type": "markdown",
   "metadata": {
    "deletable": false,
    "editable": false,
    "nbgrader": {
     "cell_type": "markdown",
     "checksum": "d24d3d1304489ceb4e2263d5b1726a07",
     "grade": false,
     "grade_id": "cell-17cd17a07c82795a",
     "locked": true,
     "schema_version": 3,
     "solution": false,
     "task": false
    }
   },
   "source": [
    "<img src=\"../../../coursedata/R1_ComponentsML/Hspace.jpg\" alt=\"Drawing\" style=\"width: 900px;\"/>"
   ]
  },
  {
   "cell_type": "markdown",
   "metadata": {
    "deletable": false,
    "editable": false,
    "nbgrader": {
     "cell_type": "markdown",
     "checksum": "2483751cc84fc3784b75dbd187759454",
     "grade": false,
     "grade_id": "cell-682234cedb587efc",
     "locked": true,
     "schema_version": 3,
     "solution": false
    }
   },
   "source": [
    "<a id='HypothesisDemo'></a>\n",
    "<div class=\" alert alert-info\">\n",
    "    \n",
    "### Demo. Hypothesis Space of Linear Predictor Functions.  \n",
    "    \n",
    "In the code below, we create a scatterplot of the body weight values and number of chin-ups of the athletes in our example problem. In addition, we plot a few of the predictor functions $h(x)=w \\cdot x$ in the linear hypothesis space using certain choices of the parameter $w \\in \\mathbb{R}$.\n",
    "</div>"
   ]
  },
  {
   "cell_type": "code",
   "execution_count": 13,
   "metadata": {
    "deletable": false,
    "editable": false,
    "nbgrader": {
     "cell_type": "code",
     "checksum": "107db39a392deb6146d0313b23190197",
     "grade": false,
     "grade_id": "cell-6fadac9f2f063914",
     "locked": true,
     "schema_version": 3,
     "solution": false
    }
   },
   "outputs": [
    {
     "name": "stdout",
     "output_type": "stream",
     "text": [
      "{'data': array([[  5., 162.,  60.],\n",
      "       [  2., 110.,  60.],\n",
      "       [ 12., 101., 101.],\n",
      "       [ 12., 105.,  37.],\n",
      "       [ 13., 155.,  58.],\n",
      "       [  4., 101.,  42.],\n",
      "       [  8., 101.,  38.],\n",
      "       [  6., 125.,  40.],\n",
      "       [ 15., 200.,  40.],\n",
      "       [ 17., 251., 250.],\n",
      "       [ 17., 120.,  38.],\n",
      "       [ 13., 210., 115.],\n",
      "       [ 14., 215., 105.],\n",
      "       [  1.,  50.,  50.],\n",
      "       [  6.,  70.,  31.],\n",
      "       [ 12., 210., 120.],\n",
      "       [  4.,  60.,  25.],\n",
      "       [ 11., 230.,  80.],\n",
      "       [ 15., 225.,  73.],\n",
      "       [  2., 110.,  43.]]), 'feature_names': ['Chins', 'Situps', 'Jumps'], 'target': array([[191.,  36.,  50.],\n",
      "       [189.,  37.,  52.],\n",
      "       [193.,  38.,  58.],\n",
      "       [162.,  35.,  62.],\n",
      "       [189.,  35.,  46.],\n",
      "       [182.,  36.,  56.],\n",
      "       [211.,  38.,  56.],\n",
      "       [167.,  34.,  60.],\n",
      "       [176.,  31.,  74.],\n",
      "       [154.,  33.,  56.],\n",
      "       [169.,  34.,  50.],\n",
      "       [166.,  33.,  52.],\n",
      "       [154.,  34.,  64.],\n",
      "       [247.,  46.,  50.],\n",
      "       [193.,  36.,  46.],\n",
      "       [202.,  37.,  62.],\n",
      "       [176.,  37.,  54.],\n",
      "       [157.,  32.,  52.],\n",
      "       [156.,  33.,  54.],\n",
      "       [138.,  33.,  68.]]), 'target_names': ['Weight', 'Waist', 'Pulse'], 'frame': None, 'DESCR': '.. _linnerrud_dataset:\\n\\nLinnerrud dataset\\n-----------------\\n\\n**Data Set Characteristics:**\\n\\n    :Number of Instances: 20\\n    :Number of Attributes: 3\\n    :Missing Attribute Values: None\\n\\nThe Linnerud dataset is a multi-output regression dataset. It consists of three\\nexcercise (data) and three physiological (target) variables collected from\\ntwenty middle-aged men in a fitness club:\\n\\n- *physiological* - CSV containing 20 observations on 3 physiological variables:\\n   Weight, Waist and Pulse.\\n- *exercise* - CSV containing 20 observations on 3 exercise variables:\\n   Chins, Situps and Jumps.\\n\\n.. topic:: References\\n\\n  * Tenenhaus, M. (1998). La regression PLS: theorie et pratique. Paris:\\n    Editions Technic.\\n', 'data_filename': '/opt/software/lib/python3.9/site-packages/sklearn/datasets/data/linnerud_exercise.csv', 'target_filename': '/opt/software/lib/python3.9/site-packages/sklearn/datasets/data/linnerud_physiological.csv'}\n",
      "[191. 189. 193. 162. 189. 182. 211. 167. 176. 154. 169. 166. 154. 247.\n",
      " 193. 202. 176. 157. 156. 138.]\n",
      "[[ 86.523]\n",
      " [ 85.617]\n",
      " [ 87.429]\n",
      " [ 73.386]\n",
      " [ 85.617]\n",
      " [ 82.446]\n",
      " [ 95.583]\n",
      " [ 75.651]\n",
      " [ 79.728]\n",
      " [ 69.762]\n",
      " [ 76.557]\n",
      " [ 75.198]\n",
      " [ 69.762]\n",
      " [111.891]\n",
      " [ 87.429]\n",
      " [ 91.506]\n",
      " [ 79.728]\n",
      " [ 71.121]\n",
      " [ 70.668]\n",
      " [ 62.514]]\n",
      "[ 5.  2. 12. 12. 13.  4.  8.  6. 15. 17. 17. 13. 14.  1.  6. 12.  4. 11.\n",
      " 15.  2.]\n"
     ]
    },
    {
     "data": {
      "image/png": "[encoded data removed]",
      "text/plain": [
       "<Figure size 864x432 with 1 Axes>"
      ]
     },
     "metadata": {
      "needs_background": "light"
     },
     "output_type": "display_data"
    }
   ],
   "source": [
    "import numpy as np\n",
    "import matplotlib.pyplot as plt\n",
    "from sklearn import datasets \n",
    "\n",
    "# Load the chinup data\n",
    "x, y = get_chinup_data()\n",
    "\n",
    "# Define the coefficients w for the different predictors (0,0.05,...,0.45)\n",
    "coefficients = np.linspace(0, 0.45, 10)\n",
    "\n",
    "# Plot the data points and generated predictor functions from the linear hypothesis space\n",
    "fig, axes = plt.subplots(1, 1, figsize=(12, 6))  # Create Figure and Axes object\n",
    "\n",
    "plt.rcParams['axes.labelsize'] = 16 # Set fontsize of labels \n",
    "plt.rcParams['axes.titlesize'] = 16 # Set fontsize of title\n",
    "\n",
    "# Make a scatterplot of the data\n",
    "axes.scatter(x, y, color='blue', label=\"data points\") \n",
    "\n",
    "# Plot the predictor function for each regression coefficient w in `coefficients`\n",
    "for w in coefficients: \n",
    "    y_pred = w*x  # Calculate the predictor function\n",
    "    label = f\"w = {w:.2f}\"  # Format the label for the legend\n",
    "    axes.plot(x, y_pred, label=label)  # Plot the predictor function\n",
    "\n",
    "axes.set_title('Several different linear predictor functions')  # Set plot title\n",
    "axes.set_xlabel('body weight (kg)')    # Set x-axis label\n",
    "axes.set_ylabel('number of chin-ups')  # Set y-axis label\n",
    "axes.legend(loc='upper left')  # Set location of the legend to show in upper left corner\n",
    "plt.show()"
   ]
  },
  {
   "cell_type": "markdown",
   "metadata": {
    "deletable": false,
    "editable": false,
    "nbgrader": {
     "cell_type": "markdown",
     "checksum": "3e6322fd0918a8de845ed91d295a4cd1",
     "grade": false,
     "grade_id": "cell-1ed770e7af6187b0",
     "locked": true,
     "schema_version": 3,
     "solution": false
    }
   },
   "source": [
    "## Learning by Minimizing Loss\n",
    "\n",
    "ML methods search for a predictor function in its hypothesis space that accurately predicts the label of any data point. To this end, we define a **loss function** $L((\\mathbf{x}, y), h)$, which quantifies the discrepancy between the predicted label $\\hat{y}=h(\\mathbf{x})$ and the true label $y$ of a data point. The loss function is a design choice that must balance between the computational complexity (some loss functions are easier to minimize) and statistical properties (some loss functions are more robust to outliers in the training data). In general, the loss function value is small if the predicted label is close to the true label. \n",
    "\n",
    "We highlight that we need to know the true label value $y$ of a data point to evaluate the loss $L((\\mathbf{x}, y), h)$. Most ML methods need to be fed with a set of labeled datapoints $\\mathcal{D} = \\big\\{ \\big(\\mathbf{x}^{(1)},y^{(1)}\\big),\\ldots,\\big(\\mathbf{x}^{(m)},y^{(m)}\\big) \\big\\}$. The dataset $\\mathcal{D}$ is referred to as being labeled since it contains datapoints for which we know the true label values. These \"labeled\" datapoints are then used as a training set by ML method in the following sense. ML methods learn a predictor map $h \\in \\mathcal{H}$ that incurs minimal **average loss** $\\mathcal{E}$ on the training data $\\mathcal{D}$, \n",
    "\n",
    "\\begin{equation}\n",
    "    \\mathcal{E}\\big(h|\\mathcal{D} \\big) = \\frac{1}{m} \\sum_{i=1}^{m} L \\big(y^{(i)}, \\underbrace{\\hat{y}^{(i)}}_{h\\big(\\mathbf{x}^{(i)}\\big)} \\big)\n",
    "\\end{equation}\n",
    "\n",
    "We slightly abuse notation and use the $L(y, \\hat y)$ shorthand for any loss function that depends on the features $\\mathbf{x}$ only via the predicted label $\\hat y = h(x)$. \n",
    "The average loss $\\mathcal{E}\\big(h|\\mathcal{D} \\big)$ is the average of the individual losses incurred by using the predictor $h$ to predict the labels of the individual data points in the training set. We sometimes refer to the average loss of a predictor on the training set as the **training error**. \n",
    "\n",
    "In general, we are free to define the loss function to best suit the statistical properties of the data and computational resources at hand. However, for certain classes of machine learning problems some useful choices for the loss functions have crystalized. For example, if the labels of data points take on numeric values, a widely used choice for the loss function is the **squared error loss**: \n",
    "\n",
    "\\begin{equation}\n",
    "    L(y, \\hat y) = (y - \\underbrace{\\hat y}_{h(\\mathbf{x})})^{2}\n",
    "\\end{equation}\n",
    "\n",
    "We will use this loss function to fit a linear model to the chin-up data in our example problem. In this case, learning the best predictor function corresponds to finding the value of $w$ that minimizes the **mean squared error** (MSE):\n",
    "\n",
    "\\begin{equation}\n",
    "\\frac{1}{m} \\sum_{i=1}^{m} (y^{(i)} - \\hat{y}^{(i)})^{2} = \\frac{1}{m} \\sum_{i=1}^{m} (y^{(i)} - w \\cdot {x}^{(i)})^{2}. \n",
    "\\end{equation}"
   ]
  },
  {
   "cell_type": "markdown",
   "metadata": {
    "deletable": false,
    "editable": false,
    "nbgrader": {
     "cell_type": "markdown",
     "checksum": "4c106eca2151941710a263f20874c7ac",
     "grade": false,
     "grade_id": "cell-cb8925a42313f816",
     "locked": true,
     "schema_version": 3,
     "solution": false
    }
   },
   "source": [
    "<a id='FitRegressionDemo'></a>\n",
    "<div class=\" alert alert-info\">\n",
    "    \n",
    "### Demo. Fitting a Linear Model to the Linnerud data.  \n",
    "    \n",
    "The `LinearRegression` class in Scikit-learn implements a standard linear regression model. In the code snippet below, we use this class to fit a linear regression model **without an intercept** to the Linnerud data, and use the fitted model to calculate the predicted labels for the training data.\n",
    "    \n",
    "The steps we take are the following:\n",
    "    \n",
    "- First, we create an instance of the `LinearRegression` class. This is done with the statement `LinearRegression(...)`. When creating this object, we can pass different parameters to the constructor that will affect the functionality of the model. For example, the parameter `fit_intercept` determines whether or not the model includes an intercept in its predictor functions\n",
    "    \n",
    "    \n",
    "- After creating the object and storing it in a variable `reg`, we train the model on the features `X` and labels `y` by calling the function `reg.fit(X, y)`. This function takes the feature matrix and label vectors as arguments, and calculates the optimal model parameters. The optimal regression weights (coefficients) are stored in the `.coef_` attribute of the object.\n",
    "    \n",
    "    \n",
    "- Finally, we use the function `reg.predict(X)` to calculate the predicted labels for the training data. The predicted labels are calculated using the optimal weight `w_opt` that was stored in the `.coef_` attribute after fitting the model.\n",
    "    \n",
    "The documentation of the linear regression class can be found [here](https://scikit-learn.org/stable/modules/generated/sklearn.linear_model.LinearRegression.html)\n",
    "</div>"
   ]
  },
  {
   "cell_type": "code",
   "execution_count": 14,
   "metadata": {
    "deletable": false,
    "editable": false,
    "nbgrader": {
     "cell_type": "code",
     "checksum": "2320ec91846e8419bc08ef2e5bad8422",
     "grade": false,
     "grade_id": "cell-1ad68ef75f613b5c",
     "locked": true,
     "schema_version": 3,
     "solution": false,
     "task": false
    }
   },
   "outputs": [
    {
     "name": "stdout",
     "output_type": "stream",
     "text": [
      "Optimal weight w = 0.1114352858702688\n"
     ]
    }
   ],
   "source": [
    "from sklearn.linear_model import LinearRegression  \n",
    "\n",
    "reg = LinearRegression(fit_intercept=False)  # Initialize the Linear Regression model\n",
    "reg.fit(x, y)  # Fit the linear regression model using \"x\" and \"y\" variables\n",
    "y_pred = reg.predict(x)  # Make predictions based on the fitted model\n",
    "w_opt = reg.coef_[0]     # Get the optimal regression coefficient\n",
    "\n",
    "# Print weight of the optimal predictor \n",
    "print(\"Optimal weight w =\", w_opt)"
   ]
  },
  {
   "cell_type": "markdown",
   "metadata": {
    "deletable": false,
    "editable": false,
    "nbgrader": {
     "cell_type": "markdown",
     "checksum": "225f2ea8796f1c69a4bb0e09cfcf06a9",
     "grade": false,
     "grade_id": "cell-e261f0e43545bc58",
     "locked": true,
     "schema_version": 3,
     "solution": false,
     "task": false
    }
   },
   "source": [
    "Next, we plot the data points along with the optimal predictor function of the model and the predicted labels. Furthermore, we indicate the prediction errors $y-\\hat{y}$ with red bars."
   ]
  },
  {
   "cell_type": "code",
   "execution_count": 15,
   "metadata": {
    "deletable": false,
    "editable": false,
    "nbgrader": {
     "cell_type": "code",
     "checksum": "c43fe904176a498d48ad9d6184052f06",
     "grade": false,
     "grade_id": "cell-5f1aae0492c01157",
     "locked": true,
     "schema_version": 3,
     "solution": false,
     "task": false
    }
   },
   "outputs": [
    {
     "data": {
      "image/png": "[encoded data removed]",
      "text/plain": [
       "<Figure size 720x432 with 1 Axes>"
      ]
     },
     "metadata": {
      "needs_background": "light"
     },
     "output_type": "display_data"
    }
   ],
   "source": [
    "# Create a grid of test feature values \n",
    "x_grid = np.linspace(-1, 120, num=100).reshape(-1,1) \n",
    "# Compute predictions from linear regression model (without intercept term)\n",
    "y_grid = reg.predict(x_grid) \n",
    "\n",
    "fig, axes = plt.subplots(1, 1, figsize=(10, 6))  # Create Figure and Axis objects and set figure size\n",
    "axes.scatter(x, y, label='data points')          # Make a scatterplot of the weights vs. the nr. of chin-ups\n",
    "axes.scatter(x, y_pred, label='predicted labels', color='black')  # Plot the predicted labels\n",
    "axes.plot(x_grid, y_grid, color='green', label='optimal linear predictor')  # Plot the linear predictor\n",
    "\n",
    "# Plot prediction errors\n",
    "axes.plot((x[0], x[0]), (y[0], y_pred[0]), color='red', label='errors')  # Add label to legend\n",
    "for i in range(len(x)-1):  # Loop through range length of x - 1\n",
    "    lineXdata = (x[i+1], x[i+1])  # Make tuples with same x\n",
    "    lineYdata = (y[i+1], y_pred[i+1])  # Make tuples with different y's\n",
    "    axes.plot(lineXdata, lineYdata, color='red')  # Add the red lines to the plot to indicate error distance from our predicted regression model\n",
    "\n",
    "axes.axhline(y=0, color='k', linestyle=':')  # Add a dotted line y=0 \n",
    "axes.axvline(x=0, color='k', linestyle=':')  # Add a dotted line x=0 \n",
    "    \n",
    "axes.legend(loc='upper right')  # Add legend to the upper right corner\n",
    "axes.set_xlabel(\"feature x (body weight)\")       # Set x-axis label \n",
    "axes.set_ylabel(\"label y (number of chin-ups)\")  # Set y-axis label \n",
    "plt.show()"
   ]
  },
  {
   "cell_type": "markdown",
   "metadata": {
    "deletable": false,
    "editable": false,
    "nbgrader": {
     "cell_type": "markdown",
     "checksum": "987cff5f75cdbea8766d5b2ca3d6a866",
     "grade": false,
     "grade_id": "cell-16037415de0db9f3",
     "locked": true,
     "schema_version": 3,
     "solution": false
    }
   },
   "source": [
    "### Adding an Intercept Term \n",
    "\n",
    "From the figure above, we can identify a significant issue with the current hypothesis space consisting of functions $h(x) = wx$. Namely, that for all functions $h(0)=0$, i.e., the functions always cross the origin. This severely restricts linear functions the ML model can learn, and in this particular problem, prohibits learning any function with a negative relationship between the weight and chin-ups.\n",
    "\n",
    "We can solve this issue by selecting a different hypothesis space for our model. Specifically, we select a model that uses predictor functions of the form \n",
    "\n",
    "\\begin{equation}\n",
    "h(x) = w \\cdot x + b, \n",
    "\\end{equation}\n",
    "\n",
    "which contain a weight $w$ and an intercept term $b$. By including the intercept term, we allow the predictor functions to cross (intercept) the y-axis at any value $b$ on the axis since $h(0)=b$. Observe that this model has two model parameters - $w$ and $b$. Thus, the model is fitted by minimizing the average squared error of $h(x)$ with respect to both $w$ and $b$.\n",
    "\n",
    "When including an intercept term, the hypothesis space contains all possible linear functions, instead of only those that cross the origin. Thus, it is always preferable to include the intercept term, except for rare cases where we know in advance that the regression line must pass through the origin. "
   ]
  },
  {
   "cell_type": "markdown",
   "metadata": {
    "deletable": false,
    "editable": false,
    "nbgrader": {
     "cell_type": "markdown",
     "checksum": "ee94b6415072d966f2fcf76b41ce3c9c",
     "grade": false,
     "grade_id": "cell-11aeade9e7ce5633",
     "locked": true,
     "schema_version": 3,
     "solution": false,
     "task": false
    }
   },
   "source": [
    "<a id='QuestionR1_1'></a>\n",
    "<div class=\" alert alert-warning\">\n",
    "    \n",
    "### Student Task. Fitting a Linear Model with and without an intercept. \n",
    "\n",
    "Your task is to fit two linear regression models to the Linnerud data, one with an intercept term and one without. The inclusion of the intercept term is controlled by the parameter `fit_intercept`, which takes a boolean value (`True` or `False`) that indicates whether the intercept is included.\n",
    "    \n",
    "In addition, you should find the optimal weight $w_{\\rm opt}$ for the model without intercept and store it in the variable `w_opt`, and find the optimal weight and intercept for the model with an intercept and store these in the variables `w_opt_intercept` and `intercept` respectively.\n",
    "    \n",
    "The necessary steps for fitting each model are presented in detail in the previous demo. To retrieve an intercept value of fitted model, refer to [documentation](https://scikit-learn.org/stable/modules/generated/sklearn.linear_model.LinearRegression.html).\n",
    "</div>"
   ]
  },
  {
   "cell_type": "code",
   "execution_count": 16,
   "metadata": {
    "deletable": false,
    "nbgrader": {
     "cell_type": "code",
     "checksum": "366d7234d7e826511360b1badd20f0a4",
     "grade": false,
     "grade_id": "cell-e7ae566693783d23",
     "locked": false,
     "schema_version": 3,
     "solution": true,
     "task": false
    }
   },
   "outputs": [
    {
     "name": "stdout",
     "output_type": "stream",
     "text": [
      "{'data': array([[  5., 162.,  60.],\n",
      "       [  2., 110.,  60.],\n",
      "       [ 12., 101., 101.],\n",
      "       [ 12., 105.,  37.],\n",
      "       [ 13., 155.,  58.],\n",
      "       [  4., 101.,  42.],\n",
      "       [  8., 101.,  38.],\n",
      "       [  6., 125.,  40.],\n",
      "       [ 15., 200.,  40.],\n",
      "       [ 17., 251., 250.],\n",
      "       [ 17., 120.,  38.],\n",
      "       [ 13., 210., 115.],\n",
      "       [ 14., 215., 105.],\n",
      "       [  1.,  50.,  50.],\n",
      "       [  6.,  70.,  31.],\n",
      "       [ 12., 210., 120.],\n",
      "       [  4.,  60.,  25.],\n",
      "       [ 11., 230.,  80.],\n",
      "       [ 15., 225.,  73.],\n",
      "       [  2., 110.,  43.]]), 'feature_names': ['Chins', 'Situps', 'Jumps'], 'target': array([[191.,  36.,  50.],\n",
      "       [189.,  37.,  52.],\n",
      "       [193.,  38.,  58.],\n",
      "       [162.,  35.,  62.],\n",
      "       [189.,  35.,  46.],\n",
      "       [182.,  36.,  56.],\n",
      "       [211.,  38.,  56.],\n",
      "       [167.,  34.,  60.],\n",
      "       [176.,  31.,  74.],\n",
      "       [154.,  33.,  56.],\n",
      "       [169.,  34.,  50.],\n",
      "       [166.,  33.,  52.],\n",
      "       [154.,  34.,  64.],\n",
      "       [247.,  46.,  50.],\n",
      "       [193.,  36.,  46.],\n",
      "       [202.,  37.,  62.],\n",
      "       [176.,  37.,  54.],\n",
      "       [157.,  32.,  52.],\n",
      "       [156.,  33.,  54.],\n",
      "       [138.,  33.,  68.]]), 'target_names': ['Weight', 'Waist', 'Pulse'], 'frame': None, 'DESCR': '.. _linnerrud_dataset:\\n\\nLinnerrud dataset\\n-----------------\\n\\n**Data Set Characteristics:**\\n\\n    :Number of Instances: 20\\n    :Number of Attributes: 3\\n    :Missing Attribute Values: None\\n\\nThe Linnerud dataset is a multi-output regression dataset. It consists of three\\nexcercise (data) and three physiological (target) variables collected from\\ntwenty middle-aged men in a fitness club:\\n\\n- *physiological* - CSV containing 20 observations on 3 physiological variables:\\n   Weight, Waist and Pulse.\\n- *exercise* - CSV containing 20 observations on 3 exercise variables:\\n   Chins, Situps and Jumps.\\n\\n.. topic:: References\\n\\n  * Tenenhaus, M. (1998). La regression PLS: theorie et pratique. Paris:\\n    Editions Technic.\\n', 'data_filename': '/opt/software/lib/python3.9/site-packages/sklearn/datasets/data/linnerud_exercise.csv', 'target_filename': '/opt/software/lib/python3.9/site-packages/sklearn/datasets/data/linnerud_physiological.csv'}\n",
      "[191. 189. 193. 162. 189. 182. 211. 167. 176. 154. 169. 166. 154. 247.\n",
      " 193. 202. 176. 157. 156. 138.]\n",
      "[[ 86.523]\n",
      " [ 85.617]\n",
      " [ 87.429]\n",
      " [ 73.386]\n",
      " [ 85.617]\n",
      " [ 82.446]\n",
      " [ 95.583]\n",
      " [ 75.651]\n",
      " [ 79.728]\n",
      " [ 69.762]\n",
      " [ 76.557]\n",
      " [ 75.198]\n",
      " [ 69.762]\n",
      " [111.891]\n",
      " [ 87.429]\n",
      " [ 91.506]\n",
      " [ 79.728]\n",
      " [ 71.121]\n",
      " [ 70.668]\n",
      " [ 62.514]]\n",
      "[ 5.  2. 12. 12. 13.  4.  8.  6. 15. 17. 17. 13. 14.  1.  6. 12.  4. 11.\n",
      " 15.  2.]\n",
      "model without intercept: optimal weight w_opt = 0.1114352858702688\n",
      "model with intercept: optimal weight w_opt_intercept = -0.18418114215330775 and intercept = 24.351322650827086\n"
     ]
    }
   ],
   "source": [
    "x, y = get_chinup_data()\n",
    "\n",
    "### STUDENT TASK ###\n",
    "# Linear Regression model without an intercept\n",
    "reg = LinearRegression(fit_intercept = False)\n",
    "reg.fit(x,y)\n",
    "w_opt = reg.coef_[0]\n",
    "#\n",
    "# Linear Regression model with an intercept term \n",
    "reg_intercept = LinearRegression(fit_intercept = True) \n",
    "reg_intercept.fit(x,y)\n",
    "w_opt_intercept = reg_intercept.coef_[0]\n",
    "intercept = reg_intercept.intercept_\n",
    "#\n",
    "# remove the line raise NotImplementedError() before testing your solution and submitting code\n",
    "# YOUR CODE HERE\n",
    "\n",
    "# Print parameters of the optimal predictors\n",
    "print(f\"model without intercept: optimal weight w_opt = {w_opt}\")\n",
    "print(f\"model with intercept: optimal weight w_opt_intercept = {w_opt_intercept} and intercept = {intercept}\")"
   ]
  },
  {
   "cell_type": "code",
   "execution_count": 17,
   "metadata": {
    "deletable": false,
    "editable": false,
    "nbgrader": {
     "cell_type": "code",
     "checksum": "0484ac9c308cd86262c85d0cefbc57ab",
     "grade": false,
     "grade_id": "cell-f9495c305f7fa466",
     "locked": true,
     "schema_version": 3,
     "solution": false,
     "task": false
    }
   },
   "outputs": [
    {
     "name": "stdout",
     "output_type": "stream",
     "text": [
      "Sanity checks passed!\n"
     ]
    }
   ],
   "source": [
    "# Perform sanity check on the results\n",
    "assert w_opt < 1, \"w_opt value is wrong\"\n",
    "assert w_opt_intercept < 50, \"w_opt_intercept value is wrong\"\n",
    "assert intercept > -400, \"intercept value is wrong\"\n",
    "assert intercept !=0, \"intercept value is wrong\"\n",
    "\n",
    "print('Sanity checks passed!')"
   ]
  },
  {
   "cell_type": "code",
   "execution_count": 18,
   "metadata": {
    "deletable": false,
    "editable": false,
    "nbgrader": {
     "cell_type": "code",
     "checksum": "b70feecb2e1e288290720a14733f77bf",
     "grade": true,
     "grade_id": "cell-b39277ec1085d7b7",
     "locked": true,
     "points": 0.5,
     "schema_version": 3,
     "solution": false,
     "task": false
    }
   },
   "outputs": [],
   "source": [
    "# hidden tests\n"
   ]
  },
  {
   "cell_type": "code",
   "execution_count": 19,
   "metadata": {
    "deletable": false,
    "editable": false,
    "nbgrader": {
     "cell_type": "code",
     "checksum": "b60657ca412515a96811207c1afac28c",
     "grade": true,
     "grade_id": "cell-027fc5c2c407d20c",
     "locked": true,
     "points": 1.5,
     "schema_version": 3,
     "solution": false,
     "task": false
    }
   },
   "outputs": [],
   "source": [
    "# hidden tests\n"
   ]
  },
  {
   "cell_type": "code",
   "execution_count": 20,
   "metadata": {
    "deletable": false,
    "editable": false,
    "nbgrader": {
     "cell_type": "code",
     "checksum": "2410905e14e19f6f36dbce43c192a8bb",
     "grade": true,
     "grade_id": "cell-de411bb05fa9cb2a",
     "locked": true,
     "points": 1.5,
     "schema_version": 3,
     "solution": false,
     "task": false
    }
   },
   "outputs": [],
   "source": [
    "# hidden tests\n"
   ]
  },
  {
   "cell_type": "markdown",
   "metadata": {
    "deletable": false,
    "editable": false,
    "nbgrader": {
     "cell_type": "markdown",
     "checksum": "615ff973f4e5109dc8086d50b98860f9",
     "grade": false,
     "grade_id": "cell-b7fa07890fd96174",
     "locked": true,
     "schema_version": 3,
     "solution": false,
     "task": false
    }
   },
   "source": [
    "Next, we plot a figure of the linnerud data and the optimal predictors found in the previous task."
   ]
  },
  {
   "cell_type": "code",
   "execution_count": 21,
   "metadata": {
    "deletable": false,
    "editable": false,
    "nbgrader": {
     "cell_type": "code",
     "checksum": "feb706dd7b8826bff3add0521163f72d",
     "grade": false,
     "grade_id": "cell-7f8e08d57bb69288",
     "locked": true,
     "schema_version": 3,
     "solution": false,
     "task": false
    }
   },
   "outputs": [
    {
     "data": {
      "image/png": "[encoded data removed]",
      "text/plain": [
       "<Figure size 720x432 with 1 Axes>"
      ]
     },
     "metadata": {
      "needs_background": "light"
     },
     "output_type": "display_data"
    }
   ],
   "source": [
    "# Create a grid of test feature values  \n",
    "x_grid = np.linspace(-1, 120, num=100).reshape(-1,1) \n",
    "# Compute predictions from linear regression model without intercept term \n",
    "y_pred = reg.predict(x_grid) \n",
    "# Compute predictions on test feature values using linear regression model with intercept term \n",
    "y_pred_intercept = reg_intercept.predict(x_grid)\n",
    "\n",
    "fig, axes = plt.subplots(1, 1, figsize=(10, 6))  # Initialize subplots and get \"fig\" and \"axes\" variables\n",
    "axes.scatter(x, y, label='data points')          # Create a scatterplot of the chin-up data\n",
    "axes.plot(x_grid, y_pred, color='green', label='no intercept')  # Add linear predictor without intercept\n",
    "axes.plot(x_grid, y_pred_intercept, color='red', label='intercept')  # Add linear predictor with intercept\n",
    "\n",
    "axes.legend() # Add a legend \n",
    "axes.set_xlabel(\"feature x\")  # Add x-axis label \n",
    "axes.set_ylabel(\"label y\")    # Add y-axis label \n",
    "axes.axhline(y=0, color='k', linestyle=':')  # Add a dotted line \n",
    "axes.axvline(x=0, color='k', linestyle=':')  # Add a dotted line \n",
    "plt.show()"
   ]
  },
  {
   "cell_type": "markdown",
   "metadata": {
    "deletable": false,
    "editable": false,
    "nbgrader": {
     "cell_type": "markdown",
     "checksum": "5d6b5106d4929b8e6cf4486b48a1c1a3",
     "grade": false,
     "grade_id": "cell-c5d09ebb3b2a0e69",
     "locked": true,
     "schema_version": 3,
     "solution": false,
     "task": false
    }
   },
   "source": [
    "By observing the figure above, we can see that the inclusion of the intercept leads to very different results and conclusions in the chin-up problem. While the model without the intercept seemed to suggest that heavier athletes are, on average, able to do more chin-ups than their lighter counterparts, the model with the intercept suggests the opposite. So which model is more likely to be correct?\n",
    "\n",
    "Even without explicitly calculating the training error, we are able to assert that model with the intercept fits the training data better. This is due to the fact that the intercept model is trained by minimizing the MSE with respect to both $w$ and $b$, whereas the other model only minimizes with respect to $w$. If the optimal linear predictor would cross the origin, the learning algorithm used to train the intercept model would find the optimal value of $b$ to be $b=0$ and both models would result in the same predictor. Since this is not the case, we know that the intercept model fits better!"
   ]
  },
  {
   "cell_type": "markdown",
   "metadata": {
    "deletable": false,
    "editable": false,
    "nbgrader": {
     "cell_type": "markdown",
     "checksum": "0abb040622c7030bca73d979f38a92cd",
     "grade": false,
     "grade_id": "cell-b5565559a2aed2f7",
     "locked": true,
     "schema_version": 3,
     "solution": false,
     "task": false
    }
   },
   "source": [
    "## Key takeaways\n",
    "\n",
    "- Almost every ML method can be decomposed into three components: data, hypothesis space, and a loss function.\n",
    "\n",
    "\n",
    "- Data consists of data points, which are characterized by its features and label(s)\n",
    "\n",
    "\n",
    "- The hypothesis space consists of the (feasible or allowed) predictor functions that a ML method can choose from. ML methods need to restrict themselves to predictor functions only in the hypothesis space since it is computationally infeasible to search for the best predictor out of all possible functions (there are too many of them!).\n",
    "\n",
    "\n",
    "- The loss function measures the quality of a prediction $\\hat{y} = h(\\mathbf{x})$ by comparing it to the true label of the data point.\n",
    "\n",
    "\n",
    "- A ML method learns by searching its hypothesis space for the predictor function that minimizes the average loss on the labeled dataset used for training the model."
   ]
  },
  {
   "cell_type": "markdown",
   "metadata": {
    "deletable": false,
    "editable": false,
    "nbgrader": {
     "cell_type": "markdown",
     "checksum": "2084bbbe4b198e683172118749337209",
     "grade": false,
     "grade_id": "cell-7a82b818a634304f",
     "locked": true,
     "schema_version": 3,
     "solution": false,
     "task": false
    }
   },
   "source": [
    "## Glossary\n",
    "\n",
    "* **classification** Classification is the task of determining a discrete-valued label $y$ of a data point based solely on its features $\\mathbf{x}$. The label $y$ belongs to a finite set, such as $y \\in \\{−1, 1\\}$, or $y \\in \\{1,..., 19\\}$ and represents a category to which the corresponding data point belongs to. \n",
    "\n",
    "\n",
    "* **data** A set of data points.\n",
    "\n",
    "\n",
    "* **data point** A data point is any object that conveys information. Data points might be students, radio signals, trees, forests, images, RVs, real numbers or proteins. We characterize data points using two types of properties. One type of property is referred to as a feature. Features are properties of a data point that can be measured or computed in an automated fashion. Another type of property is referred to as a label. The label of a data point represents a higher-level facts or quantities of interest. In contrast to features, determining the label of a data point typically requires human experts (domain experts). Roughly speaking, ML aims at predicting the label of a data point based solely on its features.\n",
    "\n",
    "\n",
    "* **features** Features are those properties of a data point that can be measured or computed in an automated fashion. For example, if a data point is a bitmap image, then we could use the red-green-blue intensities of its pixels as features. Some widely used synonyms for the term feature are “covariate”,“explanatory variable”, “independent variable”, “input (variable)”, “predictor (variable)” or “regressor”. Here we use the term features for the low-level properties of data points that can be measured eaisily. \n",
    "\n",
    "\n",
    "* **hypothesis** A map (or function) $h: \\mathcal X → \\mathcal Y$ from the feature space $ \\mathcal X$ to the label space $ \\mathcal Y$. Given a data point with features $\\mathbf{x}$ we use a hypothesis map to estimate (or approximate) the label $y$ using the predicted label $\\hat y = h(\\mathbf{x})$. ML is about learning (finding) a hypothesis map such that $y \\approx h(\\mathbf{x})$ for any data point.\n",
    "\n",
    "\n",
    "* **hypothesis space or model** Every practical ML method uses a specific hypothesis space (or model) $\\mathcal H$. The hypothesis space of a ML method is a subset of all possible maps from the feature space to label space. The design choice of the hypothesis space should take into account available computational resources and statistical aspects. If the computational infrastructure allows for efficient matrix operations and we expect a linear relation between feature values and label, a resonable first candidate for the hypothesis space is the space of linear maps.\n",
    "\n",
    "\n",
    "* **label** A higher level fact or quantity of interest associated with a data point. If a data point is an image, its label might be the fact that it shows a cat (or not). Some widely used synonyms for the term label are ”response variable”, ”output variable” or ”target”.\n",
    "\n",
    "\n",
    "* **linear regression** Linear regression aims at learning a linear hypothesis map to predict a numeric label based on numeric features of a data point. The quality of a linear hypothesis map is typically measured using the average squared error loss incurred on a set of labeled data points (the training set).\n",
    "\n",
    "\n",
    "* **loss function** A loss function is a function which assigns a pair consisting of a datapoint, with features $\\mathbf{x}$ and label $y$, and a hypothesis $h \\in \\mathcal H$ the non-negative real number $L((\\mathbf{x}, y), h)$. The loss value$L((\\mathbf{x}, y), h)$ quantifies the discrepancy between the true label $y$ and the predicted label $h(\\mathbf{x})$. Smaller (closer to zero) values $L((\\mathbf{x}, y), h)$ mean a smaller discrepancy between predicted label and true label of a data point.\n",
    "\n",
    "\n",
    "* **predictor/ predictor function/ predictor map**  A predictor is a hypothesis whose function values are numeric, such as real numbers. Given a data point with features $\\mathbf{x}$, the predictor value $h(\\mathbf{x}) \\in \\mathbb{R}$ is used as a prediction (estimate/guess/approximation) for the true numeric label $y \\in \\mathbb{R}$ of the data point."
   ]
  },
  {
   "cell_type": "markdown",
   "metadata": {
    "deletable": false,
    "editable": false,
    "nbgrader": {
     "cell_type": "markdown",
     "checksum": "823f76449841a5aafa3d4fdf0429b8c6",
     "grade": false,
     "grade_id": "cell-60d1b69d2d9752a6",
     "locked": true,
     "schema_version": 3,
     "solution": false,
     "task": false
    }
   },
   "source": [
    "## Quiz Questions\n",
    "\n",
    "<a id='QuestionR1_1'></a>\n",
    "<div class=\" alert alert-warning\">\n",
    "    <b>Student Task.</b> Question R1.1. \n",
    "\n",
    "Assume you want to classify pictures into three categories (or classes) \"Dogs\", \"Birds\" and \"Fish\". Which of the following option could be used to formalize the task as a machine learning problem.\n",
    "\n",
    "<ol>\n",
    "  <li>Data points are pictures of Animals. Features are [Dog, Bird, Fish].  Labels are number of legs, number of wings, number of fins.</li>\n",
    "  <li>Data points are pictures of Animals. Features are number of legs, number of wings, number of fins. Labels are [Dog, Bird, Fish].</li>\n",
    "  <li>Data points are number of legs, number of wings, number of fins.  Features are pictures of animal habitat (forest, sea, sky). Labels are [Dog, Bird, Fish].</li>\n",
    "</ol> \n",
    "\n",
    "</div>"
   ]
  },
  {
   "cell_type": "code",
   "execution_count": 22,
   "metadata": {
    "deletable": false,
    "nbgrader": {
     "cell_type": "code",
     "checksum": "e15b899a745e7e865697dc738e716dc1",
     "grade": false,
     "grade_id": "cell-b96a3f8a5fd0b624",
     "locked": false,
     "schema_version": 3,
     "solution": true,
     "task": false
    }
   },
   "outputs": [],
   "source": [
    "### STUDENT TASK ###\n",
    "# remove the line raise NotImplementedError() before testing your solution and submitting code\n",
    "answer_R1_Q1 = 2\n",
    "\n",
    "# YOUR CODE HERE\n"
   ]
  },
  {
   "cell_type": "code",
   "execution_count": 23,
   "metadata": {
    "deletable": false,
    "editable": false,
    "nbgrader": {
     "cell_type": "code",
     "checksum": "ea88b5f39635ee8f21bcbc6d7e78dd0f",
     "grade": true,
     "grade_id": "cell-f3a0e35ea9f601f1",
     "locked": true,
     "points": 1,
     "schema_version": 3,
     "solution": false,
     "task": false
    }
   },
   "outputs": [
    {
     "name": "stdout",
     "output_type": "stream",
     "text": [
      "Sanity check tests passed!\n"
     ]
    }
   ],
   "source": [
    "# This cell is for tests\n",
    "\n",
    "assert answer_R1_Q1 in [1,2,3], '\"answer_R1_Q1\" Value should be an integer between 1 and 3.'\n",
    "print('Sanity check tests passed!')\n"
   ]
  },
  {
   "cell_type": "markdown",
   "metadata": {
    "deletable": false,
    "editable": false,
    "nbgrader": {
     "cell_type": "markdown",
     "checksum": "6fff77e628f044415391b4ef874316d5",
     "grade": false,
     "grade_id": "cell-9661b34f2df276e3",
     "locked": true,
     "schema_version": 3,
     "solution": false,
     "task": false
    }
   },
   "source": [
    "<a id='QuestionR1_2'></a>\n",
    "<div class=\" alert alert-warning\">\n",
    "    <b>Student Task.</b> Question R1.2. \n",
    "\n",
    "<p>Consider a ML application that involves data points characterized by a feature vector $\\mathbf{x}$ and a numeric label $y$. Which of the following are useful criteria for the quality of a predictor function $h(\\mathbf{x})$, which delivers a predicted label $\\hat{y}=h(\\mathbf{x})$?</p>\n",
    "\n",
    "<ol>\n",
    "  <li>For each predictor function $h \\in \\mathcal{H}$, compute the difference $y - \\hat{y}$ between the true label $y$ and the predicted label $\\hat{y}=h(\\mathbf{x})$ and pick the predictor function with the smallest value of loss.</li>\n",
    "  <li>Use the squared error loss $(y - \\hat{y} )^{2}$ and pick a predictor function with a squared error loss larger than $100$.</li>\n",
    "  <li>Use the squared error loss $(x - \\hat{x})^{2}$ and pick the predictor function with the smallest value of squared error loss.</li>\n",
    "  <li>Use the squared error loss $(y - \\hat{y})^{2}$ and pick the predictor function with the smallest value of the squared error loss.</li>\n",
    "</ol> \n",
    "\n",
    "</div>"
   ]
  },
  {
   "cell_type": "code",
   "execution_count": 24,
   "metadata": {
    "deletable": false,
    "nbgrader": {
     "cell_type": "code",
     "checksum": "43c0e5379496b4a210481888e4a3ba9f",
     "grade": false,
     "grade_id": "cell-feec73612cfb2a6c",
     "locked": false,
     "schema_version": 3,
     "solution": true,
     "task": false
    }
   },
   "outputs": [],
   "source": [
    "### STUDENT TASK ###\n",
    "# remove the line raise NotImplementedError() before testing your solution and submitting code\n",
    "answer_R1_Q2 = 4\n",
    "\n",
    "# YOUR CODE HERE"
   ]
  },
  {
   "cell_type": "code",
   "execution_count": 25,
   "metadata": {
    "deletable": false,
    "editable": false,
    "nbgrader": {
     "cell_type": "code",
     "checksum": "9ed09ca9562be7dfacece6a100cc6f7c",
     "grade": true,
     "grade_id": "cell-e81af79c5cef8838",
     "locked": true,
     "points": 1,
     "schema_version": 3,
     "solution": false,
     "task": false
    }
   },
   "outputs": [
    {
     "name": "stdout",
     "output_type": "stream",
     "text": [
      "Sanity check tests passed!\n"
     ]
    }
   ],
   "source": [
    "# This cell is for tests\n",
    "\n",
    "assert answer_R1_Q2 in [1,2,3,4], '\"answer_R1_Q2\" Value should be an integer between 1 and 4.'\n",
    "print('Sanity check tests passed!')\n"
   ]
  },
  {
   "cell_type": "markdown",
   "metadata": {
    "deletable": false,
    "editable": false,
    "nbgrader": {
     "cell_type": "markdown",
     "checksum": "90a8108539fa618d01fe7567f2d58a7c",
     "grade": false,
     "grade_id": "cell-abe9e55a15632c0a",
     "locked": true,
     "schema_version": 3,
     "solution": false,
     "task": false
    }
   },
   "source": [
    "<a id='QuestionR1_3'></a>\n",
    "<div class=\" alert alert-warning\">\n",
    "    <b>Student Task.</b> Question R1.3. \n",
    "\n",
    "<p> Consider a set of $m=3$ data points represented by the feature vectors $\\mathbf{x}^{(1)}=\\big(1,0,0,0\\big)^{T}$, $\\mathbf{x}^{(2)}=\\big(1,0,1,0\\big)^{T}$ and $\\mathbf{x}^{(3)}=\\big(1,0,-1,0\\big)^{T}$. What is the value of the third feature of the second data point $x^{(2)}_{3}$ ? </p>\n",
    "\n",
    "<ol>\n",
    "  <li>1 </li>\n",
    "  <li>0</li>\n",
    "  <li>-1</li>\n",
    "</ol> \n",
    "\n",
    "</div>"
   ]
  },
  {
   "cell_type": "code",
   "execution_count": 26,
   "metadata": {
    "deletable": false,
    "nbgrader": {
     "cell_type": "code",
     "checksum": "dbc2568372514e1d3f00920c337bf81b",
     "grade": false,
     "grade_id": "cell-2c0e59653ed92e5e",
     "locked": false,
     "schema_version": 3,
     "solution": true,
     "task": false
    }
   },
   "outputs": [],
   "source": [
    "### STUDENT TASK ###\n",
    "# remove the line raise NotImplementedError() before testing your solution and submitting code\n",
    "answer_R1_Q3  = 1 \n",
    "\n",
    "# YOUR CODE HERE"
   ]
  },
  {
   "cell_type": "code",
   "execution_count": 27,
   "metadata": {
    "deletable": false,
    "editable": false,
    "nbgrader": {
     "cell_type": "code",
     "checksum": "bd60f6726f96d383cb6529c7b4a3d39b",
     "grade": true,
     "grade_id": "cell-a90520159aa87f6a",
     "locked": true,
     "points": 1,
     "schema_version": 3,
     "solution": false,
     "task": false
    }
   },
   "outputs": [
    {
     "name": "stdout",
     "output_type": "stream",
     "text": [
      "Sanity check tests passed!\n"
     ]
    }
   ],
   "source": [
    "# This cell is for tests\n",
    "\n",
    "assert answer_R1_Q3 in [1,2,3], '\"answer_R1_Q3\" Value should be an integer between 1 and 3.'\n",
    "print('Sanity check tests passed!')\n"
   ]
  },
  {
   "cell_type": "code",
   "execution_count": null,
   "metadata": {},
   "outputs": [],
   "source": []
  }
 ],
 "metadata": {
  "kernelspec": {
   "display_name": "Python 3",
   "language": "python",
   "name": "python3"
  },
  "language_info": {
   "codemirror_mode": {
    "name": "ipython",
    "version": 3
   },
   "file_extension": ".py",
   "mimetype": "text/x-python",
   "name": "python",
   "nbconvert_exporter": "python",
   "pygments_lexer": "ipython3",
   "version": "3.9.5"
  },
  "toc": {
   "base_numbering": 1,
   "nav_menu": {},
   "number_sections": false,
   "sideBar": true,
   "skip_h1_title": false,
   "title_cell": "Table of Contents",
   "title_sidebar": "Contents",
   "toc_cell": false,
   "toc_position": {
    "height": "calc(100% - 180px)",
    "left": "10px",
    "top": "150px",
    "width": "304.8px"
   },
   "toc_section_display": true,
   "toc_window_display": false
  },
  "varInspector": {
   "cols": {
    "lenName": 16,
    "lenType": 16,
    "lenVar": 40
   },
   "kernels_config": {
    "python": {
     "delete_cmd_postfix": "",
     "delete_cmd_prefix": "del ",
     "library": "var_list.py",
     "varRefreshCmd": "print(var_dic_list())"
    },
    "r": {
     "delete_cmd_postfix": ") ",
     "delete_cmd_prefix": "rm(",
     "library": "var_list.r",
     "varRefreshCmd": "cat(var_dic_list()) "
    }
   },
   "types_to_exclude": [
    "module",
    "function",
    "builtin_function_or_method",
    "instance",
    "_Feature"
   ],
   "window_display": false
  }
 },
 "nbformat": 4,
 "nbformat_minor": 2
}
